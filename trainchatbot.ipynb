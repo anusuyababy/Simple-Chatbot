{
 "cells": [
  {
   "cell_type": "code",
   "execution_count": 11,
   "id": "c8ff85f6",
   "metadata": {},
   "outputs": [
    {
     "name": "stderr",
     "output_type": "stream",
     "text": [
      "Using Theano backend.\n",
      "WARNING (theano.configdefaults): g++ not available, if using conda: `conda install m2w64-toolchain`\n",
      "F:\\anacondathree\\lib\\site-packages\\theano\\configdefaults.py:560: UserWarning: DeprecationWarning: there is no c++ compiler.This is deprecated and with Theano 0.11 a c++ compiler will be mandatory\n",
      "  warnings.warn(\"DeprecationWarning: there is no c++ compiler.\"\n",
      "WARNING (theano.configdefaults): g++ not detected ! Theano will be unable to execute optimized C-implementations (for both CPU and GPU) and will default to Python implementations. Performance will be severely degraded. To remove this warning, set Theano flags cxx to an empty string.\n",
      "WARNING (theano.tensor.blas): Using NumPy C-API based implementation for BLAS functions.\n"
     ]
    }
   ],
   "source": [
    "import nltk\n",
    "from nltk.stem import WordNetLemmatizer\n",
    "lemmatizer = WordNetLemmatizer()\n",
    "import json\n",
    "import pickle\n",
    "import numpy as np\n",
    "from keras.models import Sequential\n",
    "from keras.layers import Dense, Activation, Dropout\n",
    "from keras.optimizers import SGD\n",
    "import random\n",
    "words=[]\n",
    "classes = []\n",
    "documents = []\n",
    "ignore_words = ['?', '!']\n",
    "data_file = open('intents.json').read()\n",
    "intents = json.loads(data_file)"
   ]
  },
  {
   "cell_type": "code",
   "execution_count": 12,
   "id": "ad92e42a",
   "metadata": {},
   "outputs": [
    {
     "name": "stdout",
     "output_type": "stream",
     "text": [
      "32 documents\n",
      "10 classes ['5g', 'delivery', 'goodbye', 'greeting', 'items', 'payments', 'phones', 'screensize', 'thanks', 'tv']\n",
      "66 unique lemmatized words [\"'s\", '5g', 'a', 'about', 'accept', 'anyone', 'are', 'bye', 'can', 'card', 'cash', 'credit', 'day', 'delivery', 'do', 'doe', 'get', 'good', 'goodbye', 'have', 'hd', 'hello', 'helpful', 'hey', 'hi', 'how', 'i', 'in', 'is', 'item', 'kind', 'later', 'latest', 'long', 'lot', 'mastercard', 'maximum', 'me', 'model', 'my', 'of', 'only', 'pay', 'paypal', 'phone', 'qled', 'samsung', 'screen', 'screensize', 'see', 'sell', 'shipping', 'size', 'take', 'tell', 'thank', 'thanks', 'that', 'the', 'there', 'tv', 'what', 'when', 'which', 'with', 'you']\n"
     ]
    }
   ],
   "source": [
    "for intent in intents['intents']:\n",
    "    for pattern in intent['patterns']:\n",
    "        #tokenize each word\n",
    "        w = nltk.word_tokenize(pattern)\n",
    "        words.extend(w)\n",
    "        #add documents in the corpus\n",
    "        documents.append((w, intent['tag']))\n",
    "        # add to our classes list\n",
    "        if intent['tag'] not in classes:\n",
    "            classes.append(intent['tag'])\n",
    "            \n",
    "# lemmatize, lower each word and remove duplicates\n",
    "words = [lemmatizer.lemmatize(w.lower()) for w in words if w not in ignore_words]\n",
    "words = sorted(list(set(words)))\n",
    "# sort classes\n",
    "classes = sorted(list(set(classes)))\n",
    "# documents = combination between patterns and intents\n",
    "print (len(documents), \"documents\")\n",
    "# classes = intents\n",
    "print (len(classes), \"classes\", classes)\n",
    "# words = all words, vocabulary\n",
    "print (len(words), \"unique lemmatized words\", words)"
   ]
  },
  {
   "cell_type": "code",
   "execution_count": 13,
   "id": "2f353a1d",
   "metadata": {},
   "outputs": [
    {
     "name": "stdout",
     "output_type": "stream",
     "text": [
      "Training data created\n"
     ]
    },
    {
     "name": "stderr",
     "output_type": "stream",
     "text": [
      "<ipython-input-13-cd2d2c45d8a7>:22: VisibleDeprecationWarning: Creating an ndarray from ragged nested sequences (which is a list-or-tuple of lists-or-tuples-or ndarrays with different lengths or shapes) is deprecated. If you meant to do this, you must specify 'dtype=object' when creating the ndarray\n",
      "  training = np.array(training)\n"
     ]
    }
   ],
   "source": [
    "# create our training data\n",
    "training = []\n",
    "# create an empty array for our output\n",
    "output_empty = [0] * len(classes)\n",
    "# training set, bag of words for each sentence\n",
    "for doc in documents:\n",
    "    # initialize our bag of words\n",
    "    bag = []\n",
    "    # list of tokenized words for the pattern\n",
    "    pattern_words = doc[0]\n",
    "    # lemmatize each word - create base word, in attempt to represent related words\n",
    "    pattern_words = [lemmatizer.lemmatize(word.lower()) for word in pattern_words]\n",
    "    # create our bag of words array with 1, if word match found in current pattern\n",
    "    for w in words:\n",
    "        bag.append(1) if w in pattern_words else bag.append(0)\n",
    "        # output is a '0' for each tag and '1' for current tag (for each pattern)\n",
    "        output_row = list(output_empty)\n",
    "        output_row[classes.index(doc[1])] = 1\n",
    "        training.append([bag, output_row])\n",
    "# shuffle our features and turn into np.array\n",
    "random.shuffle(training)\n",
    "training = np.array(training)\n",
    "# create train and test lists. X - patterns, Y - intents\n",
    "train_x = list(training[:,0])\n",
    "train_y = list(training[:,1])\n",
    "print(\"Training data created\")"
   ]
  },
  {
   "cell_type": "code",
   "execution_count": 14,
   "id": "62a00ebd",
   "metadata": {},
   "outputs": [
    {
     "name": "stdout",
     "output_type": "stream",
     "text": [
      "Epoch 1/15\n",
      "2112/2112 [==============================] - 142s 67ms/step - loss: 2.2930 - accuracy: 0.1458\n",
      "Epoch 2/15\n",
      "2112/2112 [==============================] - 143s 68ms/step - loss: 2.0956 - accuracy: 0.2760\n",
      "Epoch 3/15\n",
      "2112/2112 [==============================] - 151s 72ms/step - loss: 1.8777 - accuracy: 0.4081\n",
      "Epoch 4/15\n",
      "2112/2112 [==============================] - 144s 68ms/step - loss: 1.6128 - accuracy: 0.5440\n",
      "Epoch 5/15\n",
      "2112/2112 [==============================] - 141s 67ms/step - loss: 1.3133 - accuracy: 0.6534\n",
      "Epoch 6/15\n",
      "2112/2112 [==============================] - 145s 69ms/step - loss: 1.0495 - accuracy: 0.7372\n",
      "Epoch 7/15\n",
      "2112/2112 [==============================] - 135s 64ms/step - loss: 0.8154 - accuracy: 0.8049\n",
      "Epoch 8/15\n",
      "2112/2112 [==============================] - 161s 76ms/step - loss: 0.6191 - accuracy: 0.8688\n",
      "Epoch 9/15\n",
      "2112/2112 [==============================] - 153s 72ms/step - loss: 0.5250 - accuracy: 0.8826\n",
      "Epoch 10/15\n",
      "2112/2112 [==============================] - 152s 72ms/step - loss: 0.4187 - accuracy: 0.9167\n",
      "Epoch 11/15\n",
      "2112/2112 [==============================] - 146s 69ms/step - loss: 0.3535 - accuracy: 0.9285\n",
      "Epoch 12/15\n",
      "2112/2112 [==============================] - 143s 68ms/step - loss: 0.3029 - accuracy: 0.9399\n",
      "Epoch 13/15\n",
      "2112/2112 [==============================] - 145s 68ms/step - loss: 0.2465 - accuracy: 0.9517\n",
      "Epoch 14/15\n",
      "2112/2112 [==============================] - 144s 68ms/step - loss: 0.2420 - accuracy: 0.9503\n",
      "Epoch 15/15\n",
      "2112/2112 [==============================] - 153s 72ms/step - loss: 0.1988 - accuracy: 0.9631\n",
      "model created\n"
     ]
    }
   ],
   "source": [
    "model = Sequential()\n",
    "model.add(Dense(128, input_shape=(len(train_x[0]),), activation='relu'))\n",
    "model.add(Dropout(0.5))\n",
    "model.add(Dense(64, activation='relu'))\n",
    "model.add(Dropout(0.5))\n",
    "model.add(Dense(len(train_y[0]), activation='softmax'))\n",
    "# Compile model. Stochastic gradient descent with Nesterov accelerated gradient gives good results for this model\n",
    "sgd = SGD(lr=0.01, decay=1e-6, momentum=0.9, nesterov=True)\n",
    "model.compile(loss='categorical_crossentropy', optimizer=sgd, metrics=['accuracy'])\n",
    "#fitting and saving the model \n",
    "hist = model.fit(np.array(train_x), np.array(train_y), epochs=15, batch_size=100, verbose=1)\n",
    "print(\"model created\")"
   ]
  },
  {
   "cell_type": "code",
   "execution_count": 15,
   "id": "591d0718",
   "metadata": {},
   "outputs": [],
   "source": [
    "model.save('chatbot_model.h5', hist)"
   ]
  },
  {
   "cell_type": "code",
   "execution_count": 16,
   "id": "fe70be9e",
   "metadata": {},
   "outputs": [],
   "source": [
    "pickle.dump(words,open('words.pkl','wb'))\n",
    "pickle.dump(classes,open('classes.pkl','wb'))"
   ]
  },
  {
   "cell_type": "code",
   "execution_count": null,
   "id": "a6fbff20",
   "metadata": {},
   "outputs": [],
   "source": []
  }
 ],
 "metadata": {
  "kernelspec": {
   "display_name": "Python 3",
   "language": "python",
   "name": "python3"
  },
  "language_info": {
   "codemirror_mode": {
    "name": "ipython",
    "version": 3
   },
   "file_extension": ".py",
   "mimetype": "text/x-python",
   "name": "python",
   "nbconvert_exporter": "python",
   "pygments_lexer": "ipython3",
   "version": "3.8.8"
  }
 },
 "nbformat": 4,
 "nbformat_minor": 5
}
