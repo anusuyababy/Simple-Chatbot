{
 "cells": [
  {
   "cell_type": "code",
   "execution_count": 4,
   "id": "498cbc73",
   "metadata": {},
   "outputs": [],
   "source": [
    "import nltk\n",
    "from nltk.stem import WordNetLemmatizer\n",
    "lemmatizer = WordNetLemmatizer()\n",
    "import json\n",
    "import pickle\n",
    "import numpy as np\n",
    "from keras.models import Sequential\n",
    "from keras.layers import Dense, Activation, Dropout\n",
    "from keras.optimizers import SGD\n",
    "import random"
   ]
  },
  {
   "cell_type": "code",
   "execution_count": 5,
   "id": "9971cb58",
   "metadata": {},
   "outputs": [],
   "source": [
    "words=[]\n",
    "classes = []\n",
    "documents = []\n",
    "ignore_words = ['?', '!']\n",
    "data_file = open('intents.json').read()\n",
    "intents = json.loads(data_file)"
   ]
  },
  {
   "cell_type": "code",
   "execution_count": 6,
   "id": "2d2d6c92",
   "metadata": {},
   "outputs": [
    {
     "name": "stdout",
     "output_type": "stream",
     "text": [
      "52 documents\n",
      "16 classes ['5g', 'ac', 'delivery', 'fridge', 'goodbye', 'greeting', 'hours', 'items', 'offers', 'online', 'payments', 'phones', 'screensize', 'thanks', 'tv', 'washingmachine']\n",
      "95 unique lemmatized words [\"'s\", '5g', 'a', 'about', 'ac', 'accept', 'any', 'anyone', 'are', 'book', 'bye', 'can', 'card', 'cash', 'credit', 'delivery', 'do', 'doe', 'door', 'double', 'fridge', 'front', 'get', 'goodbye', 'have', 'hd', 'hello', 'helpful', 'hey', 'hi', 'hour', 'how', 'i', 'in', 'inverter', 'is', 'item', 'kind', 'later', 'latest', 'load', 'long', 'lot', 'machine', 'make', 'mastercard', 'maximum', 'me', 'model', 'my', 'of', 'offer', 'online', 'only', 'open', 'opening', 'order', 'pay', 'paypal', 'phone', 'product', 'qled', 'refridgerator', 'samsung', 'screen', 'screensize', 'see', 'sell', 'semi-automatic', 'shall', 'shipping', 'shop', 'single', 'size', 'special', 'split', 'store', 'take', 'tell', 'thank', 'thanks', 'that', 'the', 'there', 'time', 'top', 'tv', 'washing', 'washingmachine', 'what', 'when', 'which', 'with', 'you', 'your']\n"
     ]
    }
   ],
   "source": [
    "for intent in intents['intents']:\n",
    "    for pattern in intent['patterns']:\n",
    "        #tokenize each word\n",
    "        w = nltk.word_tokenize(pattern)\n",
    "        words.extend(w)\n",
    "        #add documents in the corpus\n",
    "        documents.append((w, intent['tag']))\n",
    "        # add to our classes list\n",
    "        if intent['tag'] not in classes:\n",
    "            classes.append(intent['tag'])\n",
    "            \n",
    "# lemmatize, lower each word and remove duplicates\n",
    "words = [lemmatizer.lemmatize(w.lower()) for w in words if w not in ignore_words]\n",
    "words = sorted(list(set(words)))\n",
    "# sort classes\n",
    "classes = sorted(list(set(classes)))\n",
    "# documents = combination between patterns and intents\n",
    "print (len(documents), \"documents\")\n",
    "# classes = intents\n",
    "print (len(classes), \"classes\", classes)\n",
    "# words = all words, vocabulary\n",
    "print (len(words), \"unique lemmatized words\", words)"
   ]
  },
  {
   "cell_type": "code",
   "execution_count": 7,
   "id": "9eaa875b",
   "metadata": {},
   "outputs": [
    {
     "name": "stdout",
     "output_type": "stream",
     "text": [
      "Training data created\n"
     ]
    },
    {
     "name": "stderr",
     "output_type": "stream",
     "text": [
      "<ipython-input-7-cd2d2c45d8a7>:22: VisibleDeprecationWarning: Creating an ndarray from ragged nested sequences (which is a list-or-tuple of lists-or-tuples-or ndarrays with different lengths or shapes) is deprecated. If you meant to do this, you must specify 'dtype=object' when creating the ndarray\n",
      "  training = np.array(training)\n"
     ]
    }
   ],
   "source": [
    "# create our training data\n",
    "training = []\n",
    "# create an empty array for our output\n",
    "output_empty = [0] * len(classes)\n",
    "# training set, bag of words for each sentence\n",
    "for doc in documents:\n",
    "    # initialize our bag of words\n",
    "    bag = []\n",
    "    # list of tokenized words for the pattern\n",
    "    pattern_words = doc[0]\n",
    "    # lemmatize each word - create base word, in attempt to represent related words\n",
    "    pattern_words = [lemmatizer.lemmatize(word.lower()) for word in pattern_words]\n",
    "    # create our bag of words array with 1, if word match found in current pattern\n",
    "    for w in words:\n",
    "        bag.append(1) if w in pattern_words else bag.append(0)\n",
    "        # output is a '0' for each tag and '1' for current tag (for each pattern)\n",
    "        output_row = list(output_empty)\n",
    "        output_row[classes.index(doc[1])] = 1\n",
    "        training.append([bag, output_row])\n",
    "# shuffle our features and turn into np.array\n",
    "random.shuffle(training)\n",
    "training = np.array(training)\n",
    "# create train and test lists. X - patterns, Y - intents\n",
    "train_x = list(training[:,0])\n",
    "train_y = list(training[:,1])\n",
    "print(\"Training data created\")"
   ]
  },
  {
   "cell_type": "code",
   "execution_count": 8,
   "id": "72699b98",
   "metadata": {},
   "outputs": [
    {
     "name": "stdout",
     "output_type": "stream",
     "text": [
      "Epoch 1/12\n",
      "4940/4940 [==============================] - 431s 87ms/step - loss: 2.6720 - accuracy: 0.1441\n",
      "Epoch 2/12\n",
      "4940/4940 [==============================] - 402s 81ms/step - loss: 2.2522 - accuracy: 0.3652\n",
      "Epoch 3/12\n",
      "4940/4940 [==============================] - 464s 94ms/step - loss: 1.7100 - accuracy: 0.5640\n",
      "Epoch 4/12\n",
      "4940/4940 [==============================] - 380s 77ms/step - loss: 1.1853 - accuracy: 0.7115\n",
      "Epoch 5/12\n",
      "4940/4940 [==============================] - 507s 103ms/step - loss: 0.8272 - accuracy: 0.8047\n",
      "Epoch 6/12\n",
      "4940/4940 [==============================] - 411s 83ms/step - loss: 0.5943 - accuracy: 0.8575\n",
      "Epoch 7/12\n",
      "4940/4940 [==============================] - 375s 76ms/step - loss: 0.4440 - accuracy: 0.9018\n",
      "Epoch 8/12\n",
      "4940/4940 [==============================] - 387s 78ms/step - loss: 0.3434 - accuracy: 0.9243\n",
      "Epoch 9/12\n",
      "4940/4940 [==============================] - 419s 85ms/step - loss: 0.2858 - accuracy: 0.9429\n",
      "Epoch 10/12\n",
      "4940/4940 [==============================] - 382s 77ms/step - loss: 0.2398 - accuracy: 0.9520\n",
      "Epoch 11/12\n",
      "4940/4940 [==============================] - 402s 81ms/step - loss: 0.2055 - accuracy: 0.9563\n",
      "Epoch 12/12\n",
      "4940/4940 [==============================] - 372s 75ms/step - loss: 0.1733 - accuracy: 0.9634\n",
      "model created\n"
     ]
    }
   ],
   "source": [
    "model = Sequential()\n",
    "model.add(Dense(128, input_shape=(len(train_x[0]),), activation='relu'))\n",
    "model.add(Dropout(0.5))\n",
    "model.add(Dense(64, activation='relu'))\n",
    "model.add(Dropout(0.5))\n",
    "model.add(Dense(len(train_y[0]), activation='softmax'))\n",
    "# Compile model. Stochastic gradient descent with Nesterov accelerated gradient gives good results for this model\n",
    "sgd = SGD(lr=0.01, decay=1e-6, momentum=0.9, nesterov=True)\n",
    "model.compile(loss='categorical_crossentropy', optimizer=sgd, metrics=['accuracy'])\n",
    "#fitting and saving the model \n",
    "hist = model.fit(np.array(train_x), np.array(train_y), epochs=12, batch_size=100, verbose=1)\n",
    "print(\"model created\")"
   ]
  },
  {
   "cell_type": "code",
   "execution_count": 9,
   "id": "988e5ff4",
   "metadata": {},
   "outputs": [],
   "source": [
    "model.save('chatbot_model.h5', hist)"
   ]
  },
  {
   "cell_type": "code",
   "execution_count": 10,
   "id": "5137f77b",
   "metadata": {},
   "outputs": [],
   "source": [
    "pickle.dump(words,open('words.pkl','wb'))\n",
    "pickle.dump(classes,open('classes.pkl','wb'))"
   ]
  }
 ],
 "metadata": {
  "kernelspec": {
   "display_name": "Python 3",
   "language": "python",
   "name": "python3"
  },
  "language_info": {
   "codemirror_mode": {
    "name": "ipython",
    "version": 3
   },
   "file_extension": ".py",
   "mimetype": "text/x-python",
   "name": "python",
   "nbconvert_exporter": "python",
   "pygments_lexer": "ipython3",
   "version": "3.8.8"
  }
 },
 "nbformat": 4,
 "nbformat_minor": 5
}
